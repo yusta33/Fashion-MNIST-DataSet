{
 "cells": [
  {
   "cell_type": "code",
   "execution_count": 43,
   "id": "71738d13",
   "metadata": {},
   "outputs": [
    {
     "name": "stdout",
     "output_type": "stream",
     "text": [
      "Requirement already satisfied: keras in c:\\programdata\\anaconda3\\lib\\site-packages (2.4.3)\n",
      "Requirement already satisfied: numpy>=1.9.1 in c:\\programdata\\anaconda3\\lib\\site-packages (from keras) (1.20.1)\n",
      "Requirement already satisfied: pyyaml in c:\\programdata\\anaconda3\\lib\\site-packages (from keras) (5.4.1)\n",
      "Requirement already satisfied: scipy>=0.14 in c:\\programdata\\anaconda3\\lib\\site-packages (from keras) (1.6.2)\n",
      "Requirement already satisfied: h5py in c:\\programdata\\anaconda3\\lib\\site-packages (from keras) (2.10.0)\n",
      "Requirement already satisfied: six in c:\\programdata\\anaconda3\\lib\\site-packages (from h5py->keras) (1.15.0)\n"
     ]
    }
   ],
   "source": [
    "!pip install keras"
   ]
  },
  {
   "cell_type": "code",
   "execution_count": 44,
   "id": "75eda288",
   "metadata": {},
   "outputs": [],
   "source": [
    "from __future__ import print_function\n",
    "import keras\n",
    "from keras.datasets import fashion_mnist\n",
    "from keras.models import Sequential\n",
    "from keras.layers import Dense, Dropout, Activation, Flatten\n",
    "from keras.layers import Conv2D, MaxPooling2D\n",
    "from keras.optimizers import Adam\n",
    "from keras.regularizers import l2\n",
    "import os"
   ]
  },
  {
   "cell_type": "code",
   "execution_count": 45,
   "id": "38d4799d",
   "metadata": {},
   "outputs": [],
   "source": [
    "## Parametre tanımlama"
   ]
  },
  {
   "cell_type": "code",
   "execution_count": 46,
   "id": "e9a0386d",
   "metadata": {},
   "outputs": [],
   "source": [
    "batch_size = 32 \n",
    "num_classes = 10\n",
    "epochs = 100 # 93. epoch'tan sonra kayıp fonksiyonu degeri sabit kalmaya basliyor"
   ]
  },
  {
   "cell_type": "code",
   "execution_count": 47,
   "id": "f4608354",
   "metadata": {},
   "outputs": [],
   "source": [
    "#Veri setini Keras ile aktarma"
   ]
  },
  {
   "cell_type": "code",
   "execution_count": 48,
   "id": "cdebbcfa",
   "metadata": {},
   "outputs": [],
   "source": [
    "(x_train, y_train), (x_test, y_test) = fashion_mnist.load_data()"
   ]
  },
  {
   "cell_type": "code",
   "execution_count": 49,
   "id": "3d3d5e82",
   "metadata": {},
   "outputs": [],
   "source": [
    "#Veri setini ve gorselini yakindan inceleyelim."
   ]
  },
  {
   "cell_type": "code",
   "execution_count": 50,
   "id": "f3adfe41",
   "metadata": {},
   "outputs": [
    {
     "name": "stdout",
     "output_type": "stream",
     "text": [
      "[[  0   0   0   0   0   0   0   0   0   0   0   0   0   0   0   0   0   0\n",
      "    0   0   0   0   0   0   0   0   0   0]\n",
      " [  0   0   0   0   0   0   0   0   0   0   0   0   0   0   0   0   0   0\n",
      "    0   0   0   0   0   0   0   0   0   0]\n",
      " [  0   0   0   0   0   0   0   0   0   0   0   0   0   0   0   0   0   0\n",
      "    0   0   0   0   0   0   0   0   0   0]\n",
      " [  0   0   0   0   0   0   0   0   0   0   0   0   1   0   0  13  73   0\n",
      "    0   1   4   0   0   0   0   1   1   0]\n",
      " [  0   0   0   0   0   0   0   0   0   0   0   0   3   0  36 136 127  62\n",
      "   54   0   0   0   1   3   4   0   0   3]\n",
      " [  0   0   0   0   0   0   0   0   0   0   0   0   6   0 102 204 176 134\n",
      "  144 123  23   0   0   0   0  12  10   0]\n",
      " [  0   0   0   0   0   0   0   0   0   0   0   0   0   0 155 236 207 178\n",
      "  107 156 161 109  64  23  77 130  72  15]\n",
      " [  0   0   0   0   0   0   0   0   0   0   0   1   0  69 207 223 218 216\n",
      "  216 163 127 121 122 146 141  88 172  66]\n",
      " [  0   0   0   0   0   0   0   0   0   1   1   1   0 200 232 232 233 229\n",
      "  223 223 215 213 164 127 123 196 229   0]\n",
      " [  0   0   0   0   0   0   0   0   0   0   0   0   0 183 225 216 223 228\n",
      "  235 227 224 222 224 221 223 245 173   0]\n",
      " [  0   0   0   0   0   0   0   0   0   0   0   0   0 193 228 218 213 198\n",
      "  180 212 210 211 213 223 220 243 202   0]\n",
      " [  0   0   0   0   0   0   0   0   0   1   3   0  12 219 220 212 218 192\n",
      "  169 227 208 218 224 212 226 197 209  52]\n",
      " [  0   0   0   0   0   0   0   0   0   0   6   0  99 244 222 220 218 203\n",
      "  198 221 215 213 222 220 245 119 167  56]\n",
      " [  0   0   0   0   0   0   0   0   0   4   0   0  55 236 228 230 228 240\n",
      "  232 213 218 223 234 217 217 209  92   0]\n",
      " [  0   0   1   4   6   7   2   0   0   0   0   0 237 226 217 223 222 219\n",
      "  222 221 216 223 229 215 218 255  77   0]\n",
      " [  0   3   0   0   0   0   0   0   0  62 145 204 228 207 213 221 218 208\n",
      "  211 218 224 223 219 215 224 244 159   0]\n",
      " [  0   0   0   0  18  44  82 107 189 228 220 222 217 226 200 205 211 230\n",
      "  224 234 176 188 250 248 233 238 215   0]\n",
      " [  0  57 187 208 224 221 224 208 204 214 208 209 200 159 245 193 206 223\n",
      "  255 255 221 234 221 211 220 232 246   0]\n",
      " [  3 202 228 224 221 211 211 214 205 205 205 220 240  80 150 255 229 221\n",
      "  188 154 191 210 204 209 222 228 225   0]\n",
      " [ 98 233 198 210 222 229 229 234 249 220 194 215 217 241  65  73 106 117\n",
      "  168 219 221 215 217 223 223 224 229  29]\n",
      " [ 75 204 212 204 193 205 211 225 216 185 197 206 198 213 240 195 227 245\n",
      "  239 223 218 212 209 222 220 221 230  67]\n",
      " [ 48 203 183 194 213 197 185 190 194 192 202 214 219 221 220 236 225 216\n",
      "  199 206 186 181 177 172 181 205 206 115]\n",
      " [  0 122 219 193 179 171 183 196 204 210 213 207 211 210 200 196 194 191\n",
      "  195 191 198 192 176 156 167 177 210  92]\n",
      " [  0   0  74 189 212 191 175 172 175 181 185 188 189 188 193 198 204 209\n",
      "  210 210 211 188 188 194 192 216 170   0]\n",
      " [  2   0   0   0  66 200 222 237 239 242 246 243 244 221 220 193 191 179\n",
      "  182 182 181 176 166 168  99  58   0   0]\n",
      " [  0   0   0   0   0   0   0  40  61  44  72  41  35   0   0   0   0   0\n",
      "    0   0   0   0   0   0   0   0   0   0]\n",
      " [  0   0   0   0   0   0   0   0   0   0   0   0   0   0   0   0   0   0\n",
      "    0   0   0   0   0   0   0   0   0   0]\n",
      " [  0   0   0   0   0   0   0   0   0   0   0   0   0   0   0   0   0   0\n",
      "    0   0   0   0   0   0   0   0   0   0]]\n"
     ]
    },
    {
     "data": {
      "image/png": "[encoded data removed]",
      "text/plain": [
       "<Figure size 432x288 with 1 Axes>"
      ]
     },
     "metadata": {
      "needs_background": "light"
     },
     "output_type": "display_data"
    }
   ],
   "source": [
    "import matplotlib.pyplot as plt\n",
    "\n",
    "print(x_train[0])\n",
    "plt.imshow(x_train[0])\n",
    "plt.show()"
   ]
  },
  {
   "cell_type": "code",
   "execution_count": 51,
   "id": "6a8d5cb0",
   "metadata": {},
   "outputs": [],
   "source": [
    "x_train = x_train.reshape(x_train.shape[0], x_train.shape[1], x_train.shape[2], 1)\n",
    "x_test = x_test.reshape(x_test.shape[0], x_test.shape[1], x_test.shape[2], 1)\n",
    "input_shape = (28, 28, 1)"
   ]
  },
  {
   "cell_type": "code",
   "execution_count": 52,
   "id": "2169b935",
   "metadata": {},
   "outputs": [],
   "source": [
    "#Veri setini Numpy'den kategorik matriks yapısına çevirme"
   ]
  },
  {
   "cell_type": "code",
   "execution_count": 53,
   "id": "7d2a993c",
   "metadata": {},
   "outputs": [],
   "source": [
    "y_train = keras.utils.to_categorical(y_train, num_classes)\n",
    "y_test = keras.utils.to_categorical(y_test, num_classes)"
   ]
  },
  {
   "cell_type": "code",
   "execution_count": 54,
   "id": "2ce3c0c0",
   "metadata": {},
   "outputs": [],
   "source": [
    "#Model Oluşturma"
   ]
  },
  {
   "cell_type": "code",
   "execution_count": 55,
   "id": "79ecc1b9",
   "metadata": {},
   "outputs": [],
   "source": [
    "model = Sequential()\n",
    "model.add(Conv2D(32, (3, 3), padding='same', kernel_regularizer=l2(0.01), input_shape=input_shape))\n",
    "model.add(Activation('relu'))\n",
    "model.add(Conv2D(32, (5, 5), kernel_regularizer=l2(0.01)))\n",
    "model.add(Activation('relu'))\n",
    "model.add(MaxPooling2D(pool_size=(2, 2)))\n",
    "model.add(Dropout(0.25))\n",
    "\n",
    "model.add(Conv2D(64, (3, 3), padding='same', kernel_regularizer=l2(0.01)))\n",
    "model.add(Activation('relu'))\n",
    "model.add(Conv2D(64, (5, 5), kernel_regularizer=l2(0.01)))\n",
    "model.add(Activation('relu'))\n",
    "model.add(MaxPooling2D(pool_size=(2, 2)))\n",
    "model.add(Dropout(0.25))\n",
    "\n",
    "model.add(Flatten())\n",
    "model.add(Dense(512))\n",
    "model.add(Activation('relu'))\n",
    "model.add(Dropout(0.5))\n",
    "model.add(Dense(num_classes))\n",
    "model.add(Activation('softmax'))\n"
   ]
  },
  {
   "cell_type": "code",
   "execution_count": 56,
   "id": "876e727c",
   "metadata": {},
   "outputs": [],
   "source": [
    "#Optimize islemleri"
   ]
  },
  {
   "cell_type": "code",
   "execution_count": 57,
   "id": "984025a8",
   "metadata": {},
   "outputs": [],
   "source": [
    "opt = Adam(lr=0.001, beta_1=0.9, beta_2=0.999, epsilon=None, decay=0.0, amsgrad=False)"
   ]
  },
  {
   "cell_type": "code",
   "execution_count": 58,
   "id": "f06db8e5",
   "metadata": {},
   "outputs": [],
   "source": [
    "#Veri setimizdeki resimleri oluşturan matriksleri normalize etme"
   ]
  },
  {
   "cell_type": "code",
   "execution_count": 59,
   "id": "52577186",
   "metadata": {},
   "outputs": [],
   "source": [
    "x_train = x_train.astype('float32')\n",
    "x_test = x_test.astype('float32')\n",
    "x_train /= 255\n",
    "x_test /= 255"
   ]
  },
  {
   "cell_type": "code",
   "execution_count": 60,
   "id": "8cb4f7a5",
   "metadata": {},
   "outputs": [],
   "source": [
    "model.compile(loss='categorical_crossentropy',\n",
    "              optimizer=opt,\n",
    "              metrics=['accuracy'])"
   ]
  },
  {
   "cell_type": "code",
   "execution_count": 61,
   "id": "81966054",
   "metadata": {},
   "outputs": [],
   "source": [
    "#Model egitimi"
   ]
  },
  {
   "cell_type": "code",
   "execution_count": 62,
   "id": "ed947c8a",
   "metadata": {},
   "outputs": [
    {
     "name": "stdout",
     "output_type": "stream",
     "text": [
      "Epoch 1/100\n",
      "1875/1875 [==============================] - 245s 131ms/step - loss: 0.7506 - accuracy: 0.7774 - val_loss: 0.5628 - val_accuracy: 0.8319\n",
      "Epoch 2/100\n",
      "1875/1875 [==============================] - 240s 128ms/step - loss: 0.5380 - accuracy: 0.8393 - val_loss: 0.4740 - val_accuracy: 0.8592\n",
      "Epoch 3/100\n",
      "1875/1875 [==============================] - 238s 127ms/step - loss: 0.4934 - accuracy: 0.8529 - val_loss: 0.4374 - val_accuracy: 0.8705\n",
      "Epoch 4/100\n",
      "1875/1875 [==============================] - 245s 131ms/step - loss: 0.4657 - accuracy: 0.8598 - val_loss: 0.4291 - val_accuracy: 0.8709\n",
      "Epoch 5/100\n",
      "1875/1875 [==============================] - 257s 137ms/step - loss: 0.4484 - accuracy: 0.8649 - val_loss: 0.3985 - val_accuracy: 0.8825\n",
      "Epoch 6/100\n",
      "1875/1875 [==============================] - 252s 134ms/step - loss: 0.4376 - accuracy: 0.8686 - val_loss: 0.4147 - val_accuracy: 0.8777\n",
      "Epoch 7/100\n",
      "1875/1875 [==============================] - 253s 135ms/step - loss: 0.4232 - accuracy: 0.8735 - val_loss: 0.3931 - val_accuracy: 0.8842\n",
      "Epoch 8/100\n",
      "1875/1875 [==============================] - 242s 129ms/step - loss: 0.4142 - accuracy: 0.8779 - val_loss: 0.3861 - val_accuracy: 0.8886\n",
      "Epoch 9/100\n",
      "1875/1875 [==============================] - 243s 130ms/step - loss: 0.4048 - accuracy: 0.8812 - val_loss: 0.3710 - val_accuracy: 0.8933\n",
      "Epoch 10/100\n",
      "1875/1875 [==============================] - 250s 133ms/step - loss: 0.3979 - accuracy: 0.8824 - val_loss: 0.3832 - val_accuracy: 0.8860\n",
      "Epoch 11/100\n",
      "1875/1875 [==============================] - 259s 138ms/step - loss: 0.3937 - accuracy: 0.8842 - val_loss: 0.3925 - val_accuracy: 0.8811\n",
      "Epoch 12/100\n",
      "1875/1875 [==============================] - 247s 132ms/step - loss: 0.3889 - accuracy: 0.8848 - val_loss: 0.3684 - val_accuracy: 0.8899\n",
      "Epoch 13/100\n",
      "1875/1875 [==============================] - 259s 138ms/step - loss: 0.3860 - accuracy: 0.8856 - val_loss: 0.3648 - val_accuracy: 0.8926\n",
      "Epoch 14/100\n",
      "1875/1875 [==============================] - 240s 128ms/step - loss: 0.3818 - accuracy: 0.8860 - val_loss: 0.3618 - val_accuracy: 0.8926\n",
      "Epoch 15/100\n",
      "1875/1875 [==============================] - 237s 126ms/step - loss: 0.3782 - accuracy: 0.8885 - val_loss: 0.3429 - val_accuracy: 0.9013\n",
      "Epoch 16/100\n",
      "1875/1875 [==============================] - 263s 140ms/step - loss: 0.3753 - accuracy: 0.8899 - val_loss: 0.3672 - val_accuracy: 0.8919\n",
      "Epoch 17/100\n",
      "1875/1875 [==============================] - 260s 138ms/step - loss: 0.3717 - accuracy: 0.8905 - val_loss: 0.3529 - val_accuracy: 0.8957\n",
      "Epoch 18/100\n",
      "1875/1875 [==============================] - 261s 139ms/step - loss: 0.3714 - accuracy: 0.8907 - val_loss: 0.3596 - val_accuracy: 0.8932\n",
      "Epoch 19/100\n",
      "1875/1875 [==============================] - 255s 136ms/step - loss: 0.3687 - accuracy: 0.8909 - val_loss: 0.3503 - val_accuracy: 0.8958\n",
      "Epoch 20/100\n",
      "1875/1875 [==============================] - 254s 135ms/step - loss: 0.3686 - accuracy: 0.8908 - val_loss: 0.3509 - val_accuracy: 0.8964\n",
      "Epoch 21/100\n",
      "1875/1875 [==============================] - 261s 139ms/step - loss: 0.3639 - accuracy: 0.8925 - val_loss: 0.3438 - val_accuracy: 0.9010\n",
      "Epoch 22/100\n",
      "1875/1875 [==============================] - 245s 130ms/step - loss: 0.3632 - accuracy: 0.8930 - val_loss: 0.3508 - val_accuracy: 0.8960\n",
      "Epoch 23/100\n",
      "1875/1875 [==============================] - 234s 125ms/step - loss: 0.3627 - accuracy: 0.8920 - val_loss: 0.3408 - val_accuracy: 0.9002\n",
      "Epoch 24/100\n",
      "1875/1875 [==============================] - 234s 125ms/step - loss: 0.3623 - accuracy: 0.8924 - val_loss: 0.3382 - val_accuracy: 0.9039\n",
      "Epoch 25/100\n",
      "1875/1875 [==============================] - 240s 128ms/step - loss: 0.3606 - accuracy: 0.8944 - val_loss: 0.3393 - val_accuracy: 0.9018\n",
      "Epoch 26/100\n",
      "1875/1875 [==============================] - 237s 127ms/step - loss: 0.3600 - accuracy: 0.8936 - val_loss: 0.3458 - val_accuracy: 0.8992\n",
      "Epoch 27/100\n",
      "1875/1875 [==============================] - 237s 126ms/step - loss: 0.3569 - accuracy: 0.8947 - val_loss: 0.3288 - val_accuracy: 0.9052\n",
      "Epoch 28/100\n",
      "1875/1875 [==============================] - 243s 130ms/step - loss: 0.3563 - accuracy: 0.8957 - val_loss: 0.3382 - val_accuracy: 0.9003\n",
      "Epoch 29/100\n",
      "1875/1875 [==============================] - 227s 121ms/step - loss: 0.3559 - accuracy: 0.8964 - val_loss: 0.3457 - val_accuracy: 0.8980\n",
      "Epoch 30/100\n",
      "1875/1875 [==============================] - 238s 127ms/step - loss: 0.3531 - accuracy: 0.8972 - val_loss: 0.3411 - val_accuracy: 0.9013\n",
      "Epoch 31/100\n",
      "1875/1875 [==============================] - 236s 126ms/step - loss: 0.3551 - accuracy: 0.8955 - val_loss: 0.3368 - val_accuracy: 0.9035\n",
      "Epoch 32/100\n",
      "1875/1875 [==============================] - 233s 124ms/step - loss: 0.3526 - accuracy: 0.8964 - val_loss: 0.3416 - val_accuracy: 0.9001\n",
      "Epoch 33/100\n",
      "1875/1875 [==============================] - 239s 127ms/step - loss: 0.3538 - accuracy: 0.8965 - val_loss: 0.3575 - val_accuracy: 0.8922\n",
      "Epoch 34/100\n",
      "1875/1875 [==============================] - 245s 130ms/step - loss: 0.3538 - accuracy: 0.8954 - val_loss: 0.3408 - val_accuracy: 0.8997\n",
      "Epoch 35/100\n",
      "1875/1875 [==============================] - 263s 140ms/step - loss: 0.3504 - accuracy: 0.8970 - val_loss: 0.3294 - val_accuracy: 0.9081\n",
      "Epoch 36/100\n",
      "1875/1875 [==============================] - 235s 125ms/step - loss: 0.3501 - accuracy: 0.8982 - val_loss: 0.3502 - val_accuracy: 0.8932\n",
      "Epoch 37/100\n",
      "1875/1875 [==============================] - 250s 133ms/step - loss: 0.3509 - accuracy: 0.8970 - val_loss: 0.3345 - val_accuracy: 0.9061\n",
      "Epoch 38/100\n",
      "1875/1875 [==============================] - 287s 153ms/step - loss: 0.3481 - accuracy: 0.8992 - val_loss: 0.3394 - val_accuracy: 0.9009\n",
      "Epoch 39/100\n",
      "1875/1875 [==============================] - 289s 154ms/step - loss: 0.3469 - accuracy: 0.8982 - val_loss: 0.3421 - val_accuracy: 0.9027\n",
      "Epoch 40/100\n",
      "1875/1875 [==============================] - 285s 152ms/step - loss: 0.3469 - accuracy: 0.8977 - val_loss: 0.3356 - val_accuracy: 0.9036\n",
      "Epoch 41/100\n",
      "1875/1875 [==============================] - 274s 146ms/step - loss: 0.3491 - accuracy: 0.8980 - val_loss: 0.3403 - val_accuracy: 0.8989\n",
      "Epoch 42/100\n",
      "1875/1875 [==============================] - 235s 125ms/step - loss: 0.3499 - accuracy: 0.8982 - val_loss: 0.3279 - val_accuracy: 0.9078\n",
      "Epoch 43/100\n",
      "1875/1875 [==============================] - 249s 133ms/step - loss: 0.3433 - accuracy: 0.8987 - val_loss: 0.3333 - val_accuracy: 0.9046\n",
      "Epoch 44/100\n",
      "1875/1875 [==============================] - 250s 134ms/step - loss: 0.3460 - accuracy: 0.8996 - val_loss: 0.3331 - val_accuracy: 0.9061\n",
      "Epoch 45/100\n",
      "1875/1875 [==============================] - 256s 136ms/step - loss: 0.3456 - accuracy: 0.8999 - val_loss: 0.3286 - val_accuracy: 0.9053\n",
      "Epoch 46/100\n",
      "1875/1875 [==============================] - 251s 134ms/step - loss: 0.3422 - accuracy: 0.9003 - val_loss: 0.3369 - val_accuracy: 0.8998\n",
      "Epoch 47/100\n",
      "1875/1875 [==============================] - 239s 128ms/step - loss: 0.3458 - accuracy: 0.8996 - val_loss: 0.3294 - val_accuracy: 0.9035\n",
      "Epoch 48/100\n",
      "1875/1875 [==============================] - 243s 129ms/step - loss: 0.3419 - accuracy: 0.9006 - val_loss: 0.3304 - val_accuracy: 0.9070\n",
      "Epoch 49/100\n",
      "1875/1875 [==============================] - 266s 142ms/step - loss: 0.3408 - accuracy: 0.8995 - val_loss: 0.3460 - val_accuracy: 0.8986\n",
      "Epoch 50/100\n",
      "1875/1875 [==============================] - 258s 138ms/step - loss: 0.3440 - accuracy: 0.8992 - val_loss: 0.3546 - val_accuracy: 0.8961\n",
      "Epoch 51/100\n",
      "1875/1875 [==============================] - 248s 132ms/step - loss: 0.3441 - accuracy: 0.8994 - val_loss: 0.3275 - val_accuracy: 0.9061\n",
      "Epoch 52/100\n",
      "1875/1875 [==============================] - 239s 128ms/step - loss: 0.3413 - accuracy: 0.9011 - val_loss: 0.3319 - val_accuracy: 0.9054\n",
      "Epoch 53/100\n",
      "1875/1875 [==============================] - 249s 133ms/step - loss: 0.3422 - accuracy: 0.9015 - val_loss: 0.3507 - val_accuracy: 0.8961\n",
      "Epoch 54/100\n",
      "1875/1875 [==============================] - 249s 133ms/step - loss: 0.3383 - accuracy: 0.9021 - val_loss: 0.3339 - val_accuracy: 0.9038\n",
      "Epoch 55/100\n",
      "1875/1875 [==============================] - 243s 130ms/step - loss: 0.3416 - accuracy: 0.9013 - val_loss: 0.3407 - val_accuracy: 0.9036\n"
     ]
    },
    {
     "name": "stdout",
     "output_type": "stream",
     "text": [
      "Epoch 56/100\n",
      "1875/1875 [==============================] - 218s 116ms/step - loss: 0.3392 - accuracy: 0.9014 - val_loss: 0.3329 - val_accuracy: 0.9072\n",
      "Epoch 57/100\n",
      "1875/1875 [==============================] - 221s 118ms/step - loss: 0.3377 - accuracy: 0.9014 - val_loss: 0.3438 - val_accuracy: 0.8965\n",
      "Epoch 58/100\n",
      "1875/1875 [==============================] - 217s 116ms/step - loss: 0.3390 - accuracy: 0.9018 - val_loss: 0.3429 - val_accuracy: 0.9013\n",
      "Epoch 59/100\n",
      "1875/1875 [==============================] - 219s 117ms/step - loss: 0.3392 - accuracy: 0.9020 - val_loss: 0.3253 - val_accuracy: 0.9068\n",
      "Epoch 60/100\n",
      "1875/1875 [==============================] - 225s 120ms/step - loss: 0.3426 - accuracy: 0.9010 - val_loss: 0.3403 - val_accuracy: 0.9031\n",
      "Epoch 61/100\n",
      "1875/1875 [==============================] - 215s 115ms/step - loss: 0.3402 - accuracy: 0.9010 - val_loss: 0.3263 - val_accuracy: 0.9077\n",
      "Epoch 62/100\n",
      "1875/1875 [==============================] - 224s 119ms/step - loss: 0.3376 - accuracy: 0.9015 - val_loss: 0.3309 - val_accuracy: 0.9053\n",
      "Epoch 63/100\n",
      "1875/1875 [==============================] - 216s 115ms/step - loss: 0.3379 - accuracy: 0.9020 - val_loss: 0.3381 - val_accuracy: 0.9037\n",
      "Epoch 64/100\n",
      "1875/1875 [==============================] - 223s 119ms/step - loss: 0.3390 - accuracy: 0.9011 - val_loss: 0.3383 - val_accuracy: 0.9016\n",
      "Epoch 65/100\n",
      "1875/1875 [==============================] - 225s 120ms/step - loss: 0.3406 - accuracy: 0.9016 - val_loss: 0.3302 - val_accuracy: 0.9070\n",
      "Epoch 66/100\n",
      "1875/1875 [==============================] - 234s 125ms/step - loss: 0.3389 - accuracy: 0.9031 - val_loss: 0.3290 - val_accuracy: 0.9094\n",
      "Epoch 67/100\n",
      "1875/1875 [==============================] - 238s 127ms/step - loss: 0.3377 - accuracy: 0.9017 - val_loss: 0.3260 - val_accuracy: 0.9079\n",
      "Epoch 68/100\n",
      "1875/1875 [==============================] - 241s 129ms/step - loss: 0.3367 - accuracy: 0.9030 - val_loss: 0.3332 - val_accuracy: 0.9077\n",
      "Epoch 69/100\n",
      "1875/1875 [==============================] - 281s 150ms/step - loss: 0.3344 - accuracy: 0.9025 - val_loss: 0.3545 - val_accuracy: 0.8991\n",
      "Epoch 70/100\n",
      "1875/1875 [==============================] - 243s 129ms/step - loss: 0.3342 - accuracy: 0.9026 - val_loss: 0.3275 - val_accuracy: 0.9082\n",
      "Epoch 71/100\n",
      "1875/1875 [==============================] - 227s 121ms/step - loss: 0.3363 - accuracy: 0.9033 - val_loss: 0.3328 - val_accuracy: 0.9058\n",
      "Epoch 72/100\n",
      "1875/1875 [==============================] - 233s 124ms/step - loss: 0.3377 - accuracy: 0.9025 - val_loss: 0.3332 - val_accuracy: 0.9055\n",
      "Epoch 73/100\n",
      "1875/1875 [==============================] - 236s 126ms/step - loss: 0.3328 - accuracy: 0.9038 - val_loss: 0.3297 - val_accuracy: 0.9081\n",
      "Epoch 74/100\n",
      "1875/1875 [==============================] - 241s 129ms/step - loss: 0.3339 - accuracy: 0.9037 - val_loss: 0.3284 - val_accuracy: 0.9090\n",
      "Epoch 75/100\n",
      "1875/1875 [==============================] - 233s 125ms/step - loss: 0.3367 - accuracy: 0.9028 - val_loss: 0.3379 - val_accuracy: 0.9055\n",
      "Epoch 76/100\n",
      "1875/1875 [==============================] - 231s 123ms/step - loss: 0.3352 - accuracy: 0.9041 - val_loss: 0.3323 - val_accuracy: 0.9071\n",
      "Epoch 77/100\n",
      "1875/1875 [==============================] - 225s 120ms/step - loss: 0.3358 - accuracy: 0.9034 - val_loss: 0.3361 - val_accuracy: 0.9048\n",
      "Epoch 78/100\n",
      "1875/1875 [==============================] - 233s 124ms/step - loss: 0.3353 - accuracy: 0.9035 - val_loss: 0.3280 - val_accuracy: 0.9075\n",
      "Epoch 79/100\n",
      "1875/1875 [==============================] - 236s 126ms/step - loss: 0.3353 - accuracy: 0.9048 - val_loss: 0.3319 - val_accuracy: 0.9060\n",
      "Epoch 80/100\n",
      "1875/1875 [==============================] - 257s 137ms/step - loss: 0.3343 - accuracy: 0.9041 - val_loss: 0.3414 - val_accuracy: 0.9039\n",
      "Epoch 81/100\n",
      "1875/1875 [==============================] - 220s 117ms/step - loss: 0.3331 - accuracy: 0.9043 - val_loss: 0.3333 - val_accuracy: 0.9047\n",
      "Epoch 82/100\n",
      "1875/1875 [==============================] - 216s 115ms/step - loss: 0.3312 - accuracy: 0.9045 - val_loss: 0.3330 - val_accuracy: 0.9075\n",
      "Epoch 83/100\n",
      "1875/1875 [==============================] - 222s 119ms/step - loss: 0.3333 - accuracy: 0.9053 - val_loss: 0.3264 - val_accuracy: 0.9081\n",
      "Epoch 84/100\n",
      "1875/1875 [==============================] - 232s 123ms/step - loss: 0.3348 - accuracy: 0.9043 - val_loss: 0.3263 - val_accuracy: 0.9086\n",
      "Epoch 85/100\n",
      "1875/1875 [==============================] - 241s 129ms/step - loss: 0.3322 - accuracy: 0.9033 - val_loss: 0.3421 - val_accuracy: 0.9008\n",
      "Epoch 86/100\n",
      "1875/1875 [==============================] - 244s 130ms/step - loss: 0.3334 - accuracy: 0.9035 - val_loss: 0.3388 - val_accuracy: 0.9047\n",
      "Epoch 87/100\n",
      "1875/1875 [==============================] - 234s 125ms/step - loss: 0.3342 - accuracy: 0.9057 - val_loss: 0.3435 - val_accuracy: 0.9011\n",
      "Epoch 88/100\n",
      "1875/1875 [==============================] - 245s 131ms/step - loss: 0.3332 - accuracy: 0.9039 - val_loss: 0.3330 - val_accuracy: 0.9077\n",
      "Epoch 89/100\n",
      "1875/1875 [==============================] - 261s 139ms/step - loss: 0.3348 - accuracy: 0.9036 - val_loss: 0.3291 - val_accuracy: 0.9085\n",
      "Epoch 90/100\n",
      "1875/1875 [==============================] - 243s 130ms/step - loss: 0.3306 - accuracy: 0.9047 - val_loss: 0.3290 - val_accuracy: 0.9067\n",
      "Epoch 91/100\n",
      "1875/1875 [==============================] - 225s 120ms/step - loss: 0.3282 - accuracy: 0.9053 - val_loss: 0.3396 - val_accuracy: 0.9045\n",
      "Epoch 92/100\n",
      "1875/1875 [==============================] - 225s 120ms/step - loss: 0.3301 - accuracy: 0.9051 - val_loss: 0.3255 - val_accuracy: 0.9078\n",
      "Epoch 93/100\n",
      "1875/1875 [==============================] - 239s 127ms/step - loss: 0.3324 - accuracy: 0.9053 - val_loss: 0.3411 - val_accuracy: 0.9025\n",
      "Epoch 94/100\n",
      "1875/1875 [==============================] - 237s 126ms/step - loss: 0.3321 - accuracy: 0.9052 - val_loss: 0.3289 - val_accuracy: 0.9056\n",
      "Epoch 95/100\n",
      "1875/1875 [==============================] - 237s 126ms/step - loss: 0.3313 - accuracy: 0.9057 - val_loss: 0.3242 - val_accuracy: 0.9089\n",
      "Epoch 96/100\n",
      "1875/1875 [==============================] - 238s 127ms/step - loss: 0.3290 - accuracy: 0.9056 - val_loss: 0.3327 - val_accuracy: 0.9040\n",
      "Epoch 97/100\n",
      "1875/1875 [==============================] - 250s 133ms/step - loss: 0.3302 - accuracy: 0.9061 - val_loss: 0.3243 - val_accuracy: 0.9092\n",
      "Epoch 98/100\n",
      "1875/1875 [==============================] - 258s 138ms/step - loss: 0.3267 - accuracy: 0.9058 - val_loss: 0.3400 - val_accuracy: 0.9043\n",
      "Epoch 99/100\n",
      "1875/1875 [==============================] - 234s 125ms/step - loss: 0.3298 - accuracy: 0.9043 - val_loss: 0.3395 - val_accuracy: 0.9029\n",
      "Epoch 100/100\n",
      "1875/1875 [==============================] - 226s 121ms/step - loss: 0.3300 - accuracy: 0.9059 - val_loss: 0.3454 - val_accuracy: 0.8971\n"
     ]
    },
    {
     "data": {
      "text/plain": [
       "<tensorflow.python.keras.callbacks.History at 0x1e01f6a2d90>"
      ]
     },
     "execution_count": 62,
     "metadata": {},
     "output_type": "execute_result"
    }
   ],
   "source": [
    "model.fit(x_train, y_train,\n",
    "              batch_size=batch_size,\n",
    "              epochs=epochs,\n",
    "              validation_data=(x_test, y_test),\n",
    "              shuffle=True)"
   ]
  },
  {
   "cell_type": "code",
   "execution_count": 63,
   "id": "e6e6ea2e",
   "metadata": {},
   "outputs": [],
   "source": [
    "#Performans ölcümü"
   ]
  },
  {
   "cell_type": "code",
   "execution_count": 64,
   "id": "8a7e743a",
   "metadata": {},
   "outputs": [
    {
     "name": "stdout",
     "output_type": "stream",
     "text": [
      "313/313 [==============================] - 3s 10ms/step - loss: 0.3454 - accuracy: 0.8971\n",
      "Test loss: 0.34539052844047546\n",
      "Test accuracy: 0.8970999717712402\n"
     ]
    }
   ],
   "source": [
    "scores = model.evaluate(x_test, y_test, verbose=1)\n",
    "print('Test loss:', scores[0])\n",
    "print('Test accuracy:', scores[1])"
   ]
  },
  {
   "cell_type": "code",
   "execution_count": 65,
   "id": "183b1627",
   "metadata": {},
   "outputs": [
    {
     "data": {
      "image/png": "[encoded data removed]",
      "text/plain": [
       "<Figure size 432x288 with 1 Axes>"
      ]
     },
     "metadata": {
      "needs_background": "light"
     },
     "output_type": "display_data"
    }
   ],
   "source": [
    "plt.imshow(x_test[0])\n",
    "plt.show()"
   ]
  },
  {
   "cell_type": "code",
   "execution_count": 66,
   "id": "29f38043",
   "metadata": {},
   "outputs": [],
   "source": [
    "#Model kayit"
   ]
  },
  {
   "cell_type": "code",
   "execution_count": 67,
   "id": "9ef88dde",
   "metadata": {},
   "outputs": [],
   "source": [
    "model.save = ('keras_fashion_mnist_trained.model')"
   ]
  }
 ],
 "metadata": {
  "kernelspec": {
   "display_name": "Python 3",
   "language": "python",
   "name": "python3"
  },
  "language_info": {
   "codemirror_mode": {
    "name": "ipython",
    "version": 3
   },
   "file_extension": ".py",
   "mimetype": "text/x-python",
   "name": "python",
   "nbconvert_exporter": "python",
   "pygments_lexer": "ipython3",
   "version": "3.8.8"
  }
 },
 "nbformat": 4,
 "nbformat_minor": 5
}
